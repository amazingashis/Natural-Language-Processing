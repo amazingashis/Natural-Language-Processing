{
  "nbformat": 4,
  "nbformat_minor": 0,
  "metadata": {
    "colab": {
      "name": "Practical_Assignment_5_Awan_Shrestha.ipynb",
      "provenance": [],
      "collapsed_sections": [
        "3jJgJF23_wjf"
      ],
      "include_colab_link": true
    },
    "kernelspec": {
      "name": "python3",
      "display_name": "Python 3"
    },
    "language_info": {
      "name": "python"
    }
  },
  "cells": [
    {
      "cell_type": "markdown",
      "metadata": {
        "id": "view-in-github",
        "colab_type": "text"
      },
      "source": [
        "<a href=\"https://colab.research.google.com/github/amazingashis/Natural-Language-Processing/blob/main/Practical_Assignment_5_Awan_Shrestha.ipynb\" target=\"_parent\"><img src=\"https://colab.research.google.com/assets/colab-badge.svg\" alt=\"Open In Colab\"/></a>"
      ]
    },
    {
      "cell_type": "markdown",
      "metadata": {
        "id": "JDnAKOVi8Eyu"
      },
      "source": [
        "#Practical Assignment V - Exploring sentence, document and character level embedding"
      ]
    },
    {
      "cell_type": "markdown",
      "metadata": {
        "id": "d7kWfXio8O61"
      },
      "source": [
        "##  Venturing into Doc2Vec"
      ]
    },
    {
      "cell_type": "markdown",
      "metadata": {
        "id": "tdN8ebhqAi3W"
      },
      "source": [
        "###Building a Doc2Vec model\n"
      ]
    },
    {
      "cell_type": "code",
      "metadata": {
        "id": "1sRiVxAo8YIl"
      },
      "source": [
        "from gensim.test.utils import common_texts\n",
        "from gensim.models.doc2vec import Doc2Vec, TaggedDocument"
      ],
      "execution_count": 34,
      "outputs": []
    },
    {
      "cell_type": "code",
      "metadata": {
        "colab": {
          "base_uri": "https://localhost:8080/"
        },
        "id": "58V7kWmX8atN",
        "outputId": "c44ef5fe-57ef-437d-d6ef-f80598ef691e"
      },
      "source": [
        "common_texts"
      ],
      "execution_count": 35,
      "outputs": [
        {
          "output_type": "execute_result",
          "data": {
            "text/plain": [
              "[['human', 'interface', 'computer'],\n",
              " ['survey', 'user', 'computer', 'system', 'response', 'time'],\n",
              " ['eps', 'user', 'interface', 'system'],\n",
              " ['system', 'human', 'system', 'eps'],\n",
              " ['user', 'response', 'time'],\n",
              " ['trees'],\n",
              " ['graph', 'trees'],\n",
              " ['graph', 'minors', 'trees'],\n",
              " ['graph', 'minors', 'survey']]"
            ]
          },
          "metadata": {},
          "execution_count": 35
        }
      ]
    },
    {
      "cell_type": "code",
      "metadata": {
        "id": "CU-09ZdI8fx3"
      },
      "source": [
        "documents = [TaggedDocument(doc, [i]) for i, doc in enumerate(common_texts)]"
      ],
      "execution_count": 36,
      "outputs": []
    },
    {
      "cell_type": "code",
      "metadata": {
        "colab": {
          "base_uri": "https://localhost:8080/"
        },
        "id": "HvnVeLGe8ln9",
        "outputId": "ffad4db3-38bf-4d81-8d48-41b4a0942ea0"
      },
      "source": [
        "documents"
      ],
      "execution_count": 37,
      "outputs": [
        {
          "output_type": "execute_result",
          "data": {
            "text/plain": [
              "[TaggedDocument(words=['human', 'interface', 'computer'], tags=[0]),\n",
              " TaggedDocument(words=['survey', 'user', 'computer', 'system', 'response', 'time'], tags=[1]),\n",
              " TaggedDocument(words=['eps', 'user', 'interface', 'system'], tags=[2]),\n",
              " TaggedDocument(words=['system', 'human', 'system', 'eps'], tags=[3]),\n",
              " TaggedDocument(words=['user', 'response', 'time'], tags=[4]),\n",
              " TaggedDocument(words=['trees'], tags=[5]),\n",
              " TaggedDocument(words=['graph', 'trees'], tags=[6]),\n",
              " TaggedDocument(words=['graph', 'minors', 'trees'], tags=[7]),\n",
              " TaggedDocument(words=['graph', 'minors', 'survey'], tags=[8])]"
            ]
          },
          "metadata": {},
          "execution_count": 37
        }
      ]
    },
    {
      "cell_type": "code",
      "metadata": {
        "id": "-aFiIMvk8peW"
      },
      "source": [
        "model = Doc2Vec(documents, vector_size=5, min_count=1, workers=4, epochs = 40)\n",
        "model.train(documents, total_examples=model.corpus_count, epochs=model.epochs)"
      ],
      "execution_count": 38,
      "outputs": []
    },
    {
      "cell_type": "code",
      "metadata": {
        "colab": {
          "base_uri": "https://localhost:8080/"
        },
        "id": "VNFTHMOx8ltv",
        "outputId": "d05a477b-474c-481a-a584-bd283deff0fd"
      },
      "source": [
        "model.vector_size\n"
      ],
      "execution_count": 39,
      "outputs": [
        {
          "output_type": "execute_result",
          "data": {
            "text/plain": [
              "5"
            ]
          },
          "metadata": {},
          "execution_count": 39
        }
      ]
    },
    {
      "cell_type": "code",
      "metadata": {
        "colab": {
          "base_uri": "https://localhost:8080/"
        },
        "id": "RtRZ-ofR8vIm",
        "outputId": "dbbaada3-c496-4621-8ae8-d511db360711"
      },
      "source": [
        "len(model.docvecs)"
      ],
      "execution_count": 40,
      "outputs": [
        {
          "output_type": "execute_result",
          "data": {
            "text/plain": [
              "9"
            ]
          },
          "metadata": {},
          "execution_count": 40
        }
      ]
    },
    {
      "cell_type": "code",
      "metadata": {
        "colab": {
          "base_uri": "https://localhost:8080/"
        },
        "id": "WK6LNmiW8vef",
        "outputId": "aad5b296-378c-44ec-fddc-3be47875f998"
      },
      "source": [
        "model.wv.vocab"
      ],
      "execution_count": 41,
      "outputs": [
        {
          "output_type": "execute_result",
          "data": {
            "text/plain": [
              "{'computer': <gensim.models.keyedvectors.Vocab at 0x7f55f1bb4a10>,\n",
              " 'eps': <gensim.models.keyedvectors.Vocab at 0x7f55e8b37b50>,\n",
              " 'graph': <gensim.models.keyedvectors.Vocab at 0x7f55f035c590>,\n",
              " 'human': <gensim.models.keyedvectors.Vocab at 0x7f55f1bb43d0>,\n",
              " 'interface': <gensim.models.keyedvectors.Vocab at 0x7f55f1bb4b50>,\n",
              " 'minors': <gensim.models.keyedvectors.Vocab at 0x7f55f035c7d0>,\n",
              " 'response': <gensim.models.keyedvectors.Vocab at 0x7f55f035c810>,\n",
              " 'survey': <gensim.models.keyedvectors.Vocab at 0x7f55f1bb4650>,\n",
              " 'system': <gensim.models.keyedvectors.Vocab at 0x7f5608148410>,\n",
              " 'time': <gensim.models.keyedvectors.Vocab at 0x7f55f035c150>,\n",
              " 'trees': <gensim.models.keyedvectors.Vocab at 0x7f55f1bf32d0>,\n",
              " 'user': <gensim.models.keyedvectors.Vocab at 0x7f55e8b37e90>}"
            ]
          },
          "metadata": {},
          "execution_count": 41
        }
      ]
    },
    {
      "cell_type": "code",
      "metadata": {
        "colab": {
          "base_uri": "https://localhost:8080/"
        },
        "id": "4II0sdTu9FEO",
        "outputId": "64c3677c-d10b-4a57-c7cc-50292fea7931"
      },
      "source": [
        "vector = model.infer_vector(['user', 'interface', 'for', 'computer'])\n",
        "print(vector)"
      ],
      "execution_count": 42,
      "outputs": [
        {
          "output_type": "stream",
          "name": "stdout",
          "text": [
            "[-0.08352045  0.07577062  0.07849665  0.06628019 -0.00598255]\n"
          ]
        }
      ]
    },
    {
      "cell_type": "markdown",
      "metadata": {
        "id": "q2vFiPzN9PFV"
      },
      "source": [
        "###Changing vector size and min_count"
      ]
    },
    {
      "cell_type": "code",
      "metadata": {
        "id": "wZ9hlm_k9RBe"
      },
      "source": [
        "model = Doc2Vec(documents, vector_size=50, min_count=3, epochs=40)\n",
        "model.train(documents, total_examples=model.corpus_count,\n",
        "epochs=model.epochs)\n"
      ],
      "execution_count": 43,
      "outputs": []
    },
    {
      "cell_type": "code",
      "metadata": {
        "colab": {
          "base_uri": "https://localhost:8080/"
        },
        "id": "5sNFh4gh9VpY",
        "outputId": "ced7d927-7384-4ae7-b6cc-e6e3e4bd72ad"
      },
      "source": [
        "len(model.wv.vocab)\n"
      ],
      "execution_count": 44,
      "outputs": [
        {
          "output_type": "execute_result",
          "data": {
            "text/plain": [
              "4"
            ]
          },
          "metadata": {},
          "execution_count": 44
        }
      ]
    },
    {
      "cell_type": "code",
      "metadata": {
        "colab": {
          "base_uri": "https://localhost:8080/"
        },
        "id": "1mzoX8Dq9Xw1",
        "outputId": "40b5269b-52f5-4dc8-c12c-ba2d510f5e74"
      },
      "source": [
        "model.wv.vocab"
      ],
      "execution_count": 45,
      "outputs": [
        {
          "output_type": "execute_result",
          "data": {
            "text/plain": [
              "{'graph': <gensim.models.keyedvectors.Vocab at 0x7f55e8ae3290>,\n",
              " 'system': <gensim.models.keyedvectors.Vocab at 0x7f55e8ae3cd0>,\n",
              " 'trees': <gensim.models.keyedvectors.Vocab at 0x7f55e8ae33d0>,\n",
              " 'user': <gensim.models.keyedvectors.Vocab at 0x7f55e8ae3550>}"
            ]
          },
          "metadata": {},
          "execution_count": 45
        }
      ]
    },
    {
      "cell_type": "code",
      "metadata": {
        "colab": {
          "base_uri": "https://localhost:8080/"
        },
        "id": "dCNDEbJ79cvP",
        "outputId": "58857cde-35a7-4cfc-feaa-ef569af54e95"
      },
      "source": [
        "vector = model.infer_vector(['user', 'interface', 'for',\n",
        "'computer'])\n",
        "print(vector)\n"
      ],
      "execution_count": 46,
      "outputs": [
        {
          "output_type": "stream",
          "name": "stdout",
          "text": [
            "[-8.4750634e-03  7.5111394e-03  7.7665760e-03  6.5995441e-03\n",
            " -6.8286638e-04  5.8429032e-03  1.1598546e-03 -8.7954942e-03\n",
            "  8.1791701e-03 -4.4421265e-03  1.1100292e-03 -2.7379380e-03\n",
            "  9.7492803e-03 -1.1681832e-03  4.2009694e-03 -8.0576343e-03\n",
            "  7.8467261e-03 -9.3202907e-05  6.9555426e-07  9.0485699e-03\n",
            " -6.2822904e-03  7.2866827e-03 -3.2054682e-04  3.8372234e-03\n",
            "  1.0024318e-02 -1.8087879e-03 -7.0969323e-03  8.9128138e-03\n",
            "  3.4772779e-03  6.7490530e-03 -1.4639270e-03  2.1933939e-03\n",
            " -2.6978464e-03 -2.4410717e-03 -6.0562105e-03 -1.9614915e-03\n",
            "  7.4881837e-03  7.4544633e-03 -4.6675331e-03 -8.9964205e-03\n",
            " -4.1496502e-03  1.1965168e-03  1.4533448e-03 -4.2539025e-03\n",
            "  1.5698307e-03 -3.7755235e-03 -9.8844478e-03 -7.8036911e-03\n",
            "  3.1829832e-04  4.4387914e-03]\n"
          ]
        }
      ]
    },
    {
      "cell_type": "markdown",
      "metadata": {
        "id": "RNFup16S9mZl"
      },
      "source": [
        "###The dm parameter for switching between modeling\n",
        "approaches"
      ]
    },
    {
      "cell_type": "code",
      "metadata": {
        "id": "B8b0AXG39n0O"
      },
      "source": [
        "model = Doc2Vec(documents, vector_size=50, min_count=2, epochs=40, dm=1)\n",
        "model.train(documents, total_examples=model.corpus_count,\n",
        "epochs=model.epochs)"
      ],
      "execution_count": 47,
      "outputs": []
    },
    {
      "cell_type": "markdown",
      "metadata": {
        "id": "4_MiSZBW9yG-"
      },
      "source": [
        "###The dm_concat parameter"
      ]
    },
    {
      "cell_type": "code",
      "metadata": {
        "id": "eaTSFkoO9zIR"
      },
      "source": [
        "model = Doc2Vec(documents, vector_size=50, min_count=2, epochs=40,\n",
        "window=2, dm=1, alpha=0.3, min_alpha=0.05, dm_concat=1)\n",
        "model.train(documents, total_examples=model.corpus_count,\n",
        "epochs=model.epochs)\n"
      ],
      "execution_count": 48,
      "outputs": []
    },
    {
      "cell_type": "code",
      "metadata": {
        "id": "6drfUch299Y2"
      },
      "source": [
        "model = Doc2Vec(documents, vector_size=50, min_count=2, epochs=40,\n",
        "window=2, dm=1, alpha=0.3, min_alpha=0.05, dm_concat=0)\n",
        "model.train(documents, total_examples=model.corpus_count,\n",
        "epochs=model.epochs)"
      ],
      "execution_count": 49,
      "outputs": []
    },
    {
      "cell_type": "markdown",
      "metadata": {
        "id": "RutRVa2Y9_92"
      },
      "source": [
        "###The dm_mean parameter"
      ]
    },
    {
      "cell_type": "code",
      "metadata": {
        "id": "R005aVQM-CRW"
      },
      "source": [
        "model = Doc2Vec(documents, vector_size=50, min_count=2, epochs=40,\n",
        "window=2, dm=1, dm_concat=0, dm_mean=1, alpha=0.3, min_alpha=0.05)\n",
        "model.train(documents, total_examples=model.corpus_count,\n",
        "epochs=model.epochs)\n"
      ],
      "execution_count": 50,
      "outputs": []
    },
    {
      "cell_type": "code",
      "metadata": {
        "id": "t7kM-4Em-GQX"
      },
      "source": [
        "model = Doc2Vec(documents, vector_size=50, min_count=2, epochs=40,\n",
        "window=2, dm=1, dm_concat=0, dm_mean=0, alpha=0.3, min_alpha=0.05)\n",
        "model.train(documents, total_examples=model.corpus_count,\n",
        "epochs=model.epochs)\n"
      ],
      "execution_count": 51,
      "outputs": []
    },
    {
      "cell_type": "markdown",
      "metadata": {
        "id": "EI3W5YfREwug"
      },
      "source": [
        "###Window Size"
      ]
    },
    {
      "cell_type": "code",
      "metadata": {
        "id": "We-FhgRx-K4n"
      },
      "source": [
        "model = Doc2Vec(documents, vector_size=50, min_count=2, epochs=40,\n",
        "window=2, dm=0)\n",
        "model.train(documents, total_examples=model.corpus_count,\n",
        "epochs=model.epochs)\n"
      ],
      "execution_count": 52,
      "outputs": []
    },
    {
      "cell_type": "markdown",
      "metadata": {
        "id": "XC8da3dW-RDf"
      },
      "source": [
        "###Learning Rate"
      ]
    },
    {
      "cell_type": "code",
      "metadata": {
        "id": "X1R67tfA-Sxx"
      },
      "source": [
        "model = Doc2Vec(documents, vector_size=50, min_count=2, epochs=40,\n",
        "window=2, dm=1, alpha=0.3, min_alpha=0.05)\n",
        "model.train(documents, total_examples=model.corpus_count,\n",
        "epochs=model.epochs)"
      ],
      "execution_count": 53,
      "outputs": []
    },
    {
      "cell_type": "markdown",
      "metadata": {
        "id": "JAlQIT14-Vhu"
      },
      "source": [
        "##Exploring fastText"
      ]
    },
    {
      "cell_type": "markdown",
      "metadata": {
        "id": "_e5mNVJE-a23"
      },
      "source": [
        "###Building a fastText model\n"
      ]
    },
    {
      "cell_type": "code",
      "metadata": {
        "id": "0v33HP86-Wno"
      },
      "source": [
        "from gensim.models import FastText\n",
        "from gensim.test.utils import common_texts"
      ],
      "execution_count": 54,
      "outputs": []
    },
    {
      "cell_type": "code",
      "metadata": {
        "id": "Y9VSP_vD-tJf"
      },
      "source": [
        "model = FastText(size=5, window=3, min_count=1)\n",
        "model.build_vocab(sentences=common_texts)\n",
        "model.train(sentences=common_texts, total_examples=len(common_texts), epochs=10)"
      ],
      "execution_count": 55,
      "outputs": []
    },
    {
      "cell_type": "code",
      "metadata": {
        "colab": {
          "base_uri": "https://localhost:8080/"
        },
        "id": "Ake5Th8t-0fm",
        "outputId": "6dc32e6b-ddcd-4198-df9e-4a5ca7065ce5"
      },
      "source": [
        "model.wv.vocab"
      ],
      "execution_count": 56,
      "outputs": [
        {
          "output_type": "execute_result",
          "data": {
            "text/plain": [
              "{'computer': <gensim.models.keyedvectors.Vocab at 0x7f55e8a84710>,\n",
              " 'eps': <gensim.models.keyedvectors.Vocab at 0x7f55e8a845d0>,\n",
              " 'graph': <gensim.models.keyedvectors.Vocab at 0x7f55e8a84510>,\n",
              " 'human': <gensim.models.keyedvectors.Vocab at 0x7f55e8a84e50>,\n",
              " 'interface': <gensim.models.keyedvectors.Vocab at 0x7f55e8a84050>,\n",
              " 'minors': <gensim.models.keyedvectors.Vocab at 0x7f55e8a844d0>,\n",
              " 'response': <gensim.models.keyedvectors.Vocab at 0x7f55e8a84610>,\n",
              " 'survey': <gensim.models.keyedvectors.Vocab at 0x7f55e8a846d0>,\n",
              " 'system': <gensim.models.keyedvectors.Vocab at 0x7f55e8a84650>,\n",
              " 'time': <gensim.models.keyedvectors.Vocab at 0x7f55e8a84590>,\n",
              " 'trees': <gensim.models.keyedvectors.Vocab at 0x7f55e8a84690>,\n",
              " 'user': <gensim.models.keyedvectors.Vocab at 0x7f55e8a84550>}"
            ]
          },
          "metadata": {},
          "execution_count": 56
        }
      ]
    },
    {
      "cell_type": "code",
      "metadata": {
        "colab": {
          "base_uri": "https://localhost:8080/"
        },
        "id": "Tnmr6Bs8-4d-",
        "outputId": "40b5c089-f29b-4182-896d-24cc20c42aac"
      },
      "source": [
        "model.wv['human']"
      ],
      "execution_count": 57,
      "outputs": [
        {
          "output_type": "execute_result",
          "data": {
            "text/plain": [
              "array([-0.01132617,  0.01409284,  0.04774407,  0.01412516,  0.00770461],\n",
              "      dtype=float32)"
            ]
          },
          "metadata": {},
          "execution_count": 57
        }
      ]
    },
    {
      "cell_type": "code",
      "metadata": {
        "colab": {
          "base_uri": "https://localhost:8080/"
        },
        "id": "3KpVyqDX-7fW",
        "outputId": "2768782c-8451-4d69-c9ec-13a6ff524db5"
      },
      "source": [
        "model.wv.most_similar(positive=['computer', 'interface'],\n",
        "negative=['human'])"
      ],
      "execution_count": 58,
      "outputs": [
        {
          "output_type": "execute_result",
          "data": {
            "text/plain": [
              "[('user', 0.8905642628669739),\n",
              " ('trees', 0.629560649394989),\n",
              " ('survey', 0.44253167510032654),\n",
              " ('eps', 0.41045570373535156),\n",
              " ('minors', 0.21103718876838684),\n",
              " ('time', 0.16884131729602814),\n",
              " ('response', 0.01697589084506035),\n",
              " ('graph', -0.057804279029369354),\n",
              " ('system', -0.2032489776611328)]"
            ]
          },
          "metadata": {},
          "execution_count": 58
        }
      ]
    },
    {
      "cell_type": "code",
      "metadata": {
        "id": "1Tk-S-tZ-_y-"
      },
      "source": [
        "model = FastText(size=5, window=3, min_count=1, min_n=1, max_n=5)\n",
        "model.build_vocab(sentences=common_texts)\n",
        "model.train(sentences=common_texts,\n",
        "total_examples=len(common_texts), epochs=10)"
      ],
      "execution_count": 59,
      "outputs": []
    },
    {
      "cell_type": "code",
      "metadata": {
        "colab": {
          "base_uri": "https://localhost:8080/"
        },
        "id": "Df-q0Jnf_CJn",
        "outputId": "c64782df-4a0b-4835-90d8-e9e7555a9dab"
      },
      "source": [
        "model.wv['rubber']"
      ],
      "execution_count": 60,
      "outputs": [
        {
          "output_type": "execute_result",
          "data": {
            "text/plain": [
              "array([-0.00806485, -0.04396458,  0.03130487,  0.00543756,  0.02952469],\n",
              "      dtype=float32)"
            ]
          },
          "metadata": {},
          "execution_count": 60
        }
      ]
    },
    {
      "cell_type": "code",
      "metadata": {
        "colab": {
          "base_uri": "https://localhost:8080/"
        },
        "id": "BxuNH3OM_GBY",
        "outputId": "db8ca224-094a-4ae9-e5aa-84235b45e4fa"
      },
      "source": [
        "model.wv.most_similar(positive=['computer', 'human'],\n",
        "negative=['rubber'])\n"
      ],
      "execution_count": 61,
      "outputs": [
        {
          "output_type": "execute_result",
          "data": {
            "text/plain": [
              "[('survey', 0.7597671151161194),\n",
              " ('minors', 0.5638608932495117),\n",
              " ('eps', 0.4024464786052704),\n",
              " ('time', 0.39737850427627563),\n",
              " ('graph', 0.16874422132968903),\n",
              " ('system', -0.10341963917016983),\n",
              " ('interface', -0.25100746750831604),\n",
              " ('response', -0.3518279492855072),\n",
              " ('trees', -0.5500443577766418),\n",
              " ('user', -0.696171224117279)]"
            ]
          },
          "metadata": {},
          "execution_count": 61
        }
      ]
    },
    {
      "cell_type": "code",
      "metadata": {
        "id": "iRdia7sy_KO2"
      },
      "source": [
        "sentences_to_be_added = [[\"I\", \"am\", \"learning\", \"Natural\",\n",
        "\"Language\", \"Processing\"],\n",
        " [\"Natural\", \"Language\", \"Processing\", \"is\", \"cool\"]]\n"
      ],
      "execution_count": 62,
      "outputs": []
    },
    {
      "cell_type": "code",
      "metadata": {
        "id": "siIyy_Al_Mm2"
      },
      "source": [
        "model.build_vocab(sentences_to_be_added, update=True)\n",
        "model.train(sentences=common_texts,\n",
        "total_examples=len(sentences_to_be_added), epochs=10)\n"
      ],
      "execution_count": 63,
      "outputs": []
    },
    {
      "cell_type": "code",
      "metadata": {
        "colab": {
          "base_uri": "https://localhost:8080/"
        },
        "id": "W49G7Jd5_Vrw",
        "outputId": "763c9a45-899f-4d0b-99ff-c2053ef678e6"
      },
      "source": [
        "model.wv.vocab"
      ],
      "execution_count": 64,
      "outputs": [
        {
          "output_type": "execute_result",
          "data": {
            "text/plain": [
              "{'I': <gensim.models.keyedvectors.Vocab at 0x7f55e8aa4c90>,\n",
              " 'Language': <gensim.models.keyedvectors.Vocab at 0x7f55e8aa4dd0>,\n",
              " 'Natural': <gensim.models.keyedvectors.Vocab at 0x7f55e8aa4d50>,\n",
              " 'Processing': <gensim.models.keyedvectors.Vocab at 0x7f55e8aa4e10>,\n",
              " 'am': <gensim.models.keyedvectors.Vocab at 0x7f55e8aa4cd0>,\n",
              " 'computer': <gensim.models.keyedvectors.Vocab at 0x7f55e8a73050>,\n",
              " 'cool': <gensim.models.keyedvectors.Vocab at 0x7f55e8aa4e90>,\n",
              " 'eps': <gensim.models.keyedvectors.Vocab at 0x7f55e8a73d50>,\n",
              " 'graph': <gensim.models.keyedvectors.Vocab at 0x7f55e8a73a10>,\n",
              " 'human': <gensim.models.keyedvectors.Vocab at 0x7f55e8a73810>,\n",
              " 'interface': <gensim.models.keyedvectors.Vocab at 0x7f55e8a73790>,\n",
              " 'is': <gensim.models.keyedvectors.Vocab at 0x7f55e8aa4e50>,\n",
              " 'learning': <gensim.models.keyedvectors.Vocab at 0x7f55e8aa4d10>,\n",
              " 'minors': <gensim.models.keyedvectors.Vocab at 0x7f55e8a73650>,\n",
              " 'response': <gensim.models.keyedvectors.Vocab at 0x7f55e8a73610>,\n",
              " 'survey': <gensim.models.keyedvectors.Vocab at 0x7f55e8a73c50>,\n",
              " 'system': <gensim.models.keyedvectors.Vocab at 0x7f55e8a730d0>,\n",
              " 'time': <gensim.models.keyedvectors.Vocab at 0x7f55e8a73150>,\n",
              " 'trees': <gensim.models.keyedvectors.Vocab at 0x7f55e8a73ad0>,\n",
              " 'user': <gensim.models.keyedvectors.Vocab at 0x7f55e8a733d0>}"
            ]
          },
          "metadata": {},
          "execution_count": 64
        }
      ]
    },
    {
      "cell_type": "markdown",
      "metadata": {
        "id": "8NtVGMlFB0Wo"
      },
      "source": [
        "###Building a spelling corrector/word suggestion module using fastText"
      ]
    },
    {
      "cell_type": "code",
      "metadata": {
        "colab": {
          "base_uri": "https://localhost:8080/"
        },
        "id": "F3zxZBLwB1kp",
        "outputId": "3aff2d97-e9fd-4ca4-e297-c22d09268a02"
      },
      "source": [
        "import nltk\n",
        "import re\n",
        "nltk.download('stopwords')\n",
        "nltk.download('wordnet')\n",
        "from nltk.corpus import stopwords\n",
        "from nltk.stem.porter import PorterStemmer\n",
        "from nltk.stem.snowball import SnowballStemmer\n",
        "from nltk.stem.wordnet import WordNetLemmatizer\n",
        "from gensim.models import FastText\n",
        "import io\n",
        "import collections"
      ],
      "execution_count": 65,
      "outputs": [
        {
          "output_type": "stream",
          "name": "stdout",
          "text": [
            "[nltk_data] Downloading package stopwords to /root/nltk_data...\n",
            "[nltk_data]   Package stopwords is already up-to-date!\n",
            "[nltk_data] Downloading package wordnet to /root/nltk_data...\n",
            "[nltk_data]   Package wordnet is already up-to-date!\n"
          ]
        }
      ]
    },
    {
      "cell_type": "code",
      "metadata": {
        "id": "LOTvW0epB4uK"
      },
      "source": [
        "words = []\n",
        "data = []\n",
        "with io.open('/content/sample_data/comments.txt', 'r') as file:\n",
        " for entry in file:\n",
        "  entry = entry.strip()\n",
        "  data.append(entry)\n",
        "  words.extend(entry.split())\n"
      ],
      "execution_count": 66,
      "outputs": []
    },
    {
      "cell_type": "code",
      "metadata": {
        "id": "VUrIB1c1C0k6",
        "colab": {
          "base_uri": "https://localhost:8080/"
        },
        "outputId": "4c137e60-693f-42ef-fc2f-9ca8102c4c58"
      },
      "source": [
        "unique_words = []\n",
        "unique_words = collections.Counter(words)\n",
        "unique_words.most_common(10)\n"
      ],
      "execution_count": 67,
      "outputs": [
        {
          "output_type": "execute_result",
          "data": {
            "text/plain": [
              "[('the', 22071),\n",
              " ('to', 14070),\n",
              " ('of', 10759),\n",
              " ('and', 10267),\n",
              " ('a', 10113),\n",
              " ('I', 9853),\n",
              " ('is', 8102),\n",
              " ('you', 7384),\n",
              " ('that', 7083),\n",
              " ('in', 6522)]"
            ]
          },
          "metadata": {},
          "execution_count": 67
        }
      ]
    },
    {
      "cell_type": "code",
      "metadata": {
        "id": "v6cOqk77Dmt_"
      },
      "source": [
        "preprocessed_data = []\n",
        "for line in data:\n",
        " if line != \"\":\n",
        "  preprocessed_data.append(line.split())\n"
      ],
      "execution_count": 68,
      "outputs": []
    },
    {
      "cell_type": "code",
      "metadata": {
        "id": "6iKYPi2oD7qP"
      },
      "source": [
        "model = FastText(size=300, window=3, min_count=1, min_n=1, max_n=5)"
      ],
      "execution_count": 69,
      "outputs": []
    },
    {
      "cell_type": "code",
      "metadata": {
        "id": "tW36_1fYD9Lm"
      },
      "source": [
        "model.build_vocab(sentences=preprocessed_data)\n"
      ],
      "execution_count": 70,
      "outputs": []
    },
    {
      "cell_type": "code",
      "metadata": {
        "id": "losMaRofD_Pg",
        "colab": {
          "base_uri": "https://localhost:8080/"
        },
        "outputId": "5f1e93d4-322e-492f-b63a-0c4ee78bc98c"
      },
      "source": [
        "len(model.wv.vocab)\n"
      ],
      "execution_count": 71,
      "outputs": [
        {
          "output_type": "execute_result",
          "data": {
            "text/plain": [
              "66233"
            ]
          },
          "metadata": {},
          "execution_count": 71
        }
      ]
    },
    {
      "cell_type": "code",
      "metadata": {
        "id": "2vD977QgEBpr"
      },
      "source": [
        "model.train(sentences=preprocessed_data,\n",
        "total_examples=len(preprocessed_data), epochs=10)"
      ],
      "execution_count": 72,
      "outputs": []
    },
    {
      "cell_type": "code",
      "metadata": {
        "id": "hagl5c4CEDh_",
        "colab": {
          "base_uri": "https://localhost:8080/"
        },
        "outputId": "7d094eb6-d735-45c5-d406-41899f614431"
      },
      "source": [
        "model.wv.most_similar('eplain', topn=5)"
      ],
      "execution_count": 73,
      "outputs": [
        {
          "output_type": "execute_result",
          "data": {
            "text/plain": [
              "[('explain', 0.8274258375167847),\n",
              " ('explain;', 0.806522786617279),\n",
              " ('explain,', 0.7893781065940857),\n",
              " ('explain)', 0.7877228260040283),\n",
              " ('neck', 0.7772541046142578)]"
            ]
          },
          "metadata": {},
          "execution_count": 73
        }
      ]
    },
    {
      "cell_type": "code",
      "metadata": {
        "id": "nBn7o_vQEFO4",
        "colab": {
          "base_uri": "https://localhost:8080/"
        },
        "outputId": "81e70768-7edf-4400-9d03-60f731fb9991"
      },
      "source": [
        "model.wv.most_similar('reminder', topn=5)"
      ],
      "execution_count": 74,
      "outputs": [
        {
          "output_type": "execute_result",
          "data": {
            "text/plain": [
              "[('remainder', 0.9844048023223877),\n",
              " ('referendum', 0.9648317098617554),\n",
              " ('re-review', 0.9611907005310059),\n",
              " ('render', 0.9601566791534424),\n",
              " ('undermine', 0.9558774828910828)]"
            ]
          },
          "metadata": {},
          "execution_count": 74
        }
      ]
    },
    {
      "cell_type": "code",
      "metadata": {
        "id": "W2k3cH7gEH02",
        "colab": {
          "base_uri": "https://localhost:8080/"
        },
        "outputId": "6d5d3c9e-26e8-40f8-b4d1-5dc7ba99eee3"
      },
      "source": [
        "model.wv.most_similar('relevnt', topn=5)"
      ],
      "execution_count": 75,
      "outputs": [
        {
          "output_type": "execute_result",
          "data": {
            "text/plain": [
              "[('subjective', 0.8592814207077026),\n",
              " ('reflect', 0.855454683303833),\n",
              " ('present', 0.8553184270858765),\n",
              " ('objective', 0.848566472530365),\n",
              " ('relevent', 0.8478825688362122)]"
            ]
          },
          "metadata": {},
          "execution_count": 75
        }
      ]
    },
    {
      "cell_type": "code",
      "metadata": {
        "id": "5iB5z-sMEJ-3",
        "colab": {
          "base_uri": "https://localhost:8080/"
        },
        "outputId": "8c9ac803-bca9-4b7e-f654-5ed07e22206d"
      },
      "source": [
        "model.wv.most_similar('purse', topn=5)"
      ],
      "execution_count": 76,
      "outputs": [
        {
          "output_type": "execute_result",
          "data": {
            "text/plain": [
              "[('course', 0.8895614147186279),\n",
              " ('curse', 0.8802680969238281),\n",
              " ('cpurse', 0.8699302673339844),\n",
              " ('urself', 0.8687318563461304),\n",
              " ('nurse', 0.862539529800415)]"
            ]
          },
          "metadata": {},
          "execution_count": 76
        }
      ]
    },
    {
      "cell_type": "markdown",
      "metadata": {
        "id": "nnhPZKgEEfF4"
      },
      "source": [
        "###fastText and document distances\n"
      ]
    },
    {
      "cell_type": "code",
      "metadata": {
        "id": "dlMmlYjgEf6_"
      },
      "source": [
        "sentence_1 = \"Obama speaks to the media in Illinois\"\n",
        "sentence_2 = \"President greets the press in Chicago\"\n",
        "sentence_3 = \"Apple is my favorite company\"\n"
      ],
      "execution_count": 77,
      "outputs": []
    },
    {
      "cell_type": "code",
      "metadata": {
        "id": "fn5YPce0Eirn",
        "colab": {
          "base_uri": "https://localhost:8080/"
        },
        "outputId": "7673cdbe-5bdb-4fc5-96aa-ad926016ae16"
      },
      "source": [
        "word_mover_distance = model.wmdistance(sentence_1, sentence_2)\n",
        "word_mover_distance"
      ],
      "execution_count": 78,
      "outputs": [
        {
          "output_type": "stream",
          "name": "stderr",
          "text": [
            "/usr/local/lib/python3.7/dist-packages/ipykernel_launcher.py:1: DeprecationWarning: Call to deprecated `wmdistance` (Method will be removed in 4.0.0, use self.wv.wmdistance() instead).\n",
            "  \"\"\"Entry point for launching an IPython kernel.\n"
          ]
        },
        {
          "output_type": "execute_result",
          "data": {
            "text/plain": [
              "6.956818521296314"
            ]
          },
          "metadata": {},
          "execution_count": 78
        }
      ]
    },
    {
      "cell_type": "code",
      "metadata": {
        "id": "yfGcu2UBElCo",
        "colab": {
          "base_uri": "https://localhost:8080/"
        },
        "outputId": "97be0f1a-7a5a-4bdd-c89a-ced82753e860"
      },
      "source": [
        "word_mover_distance = model.wmdistance(sentence_2, sentence_3)\n",
        "word_mover_distance"
      ],
      "execution_count": 79,
      "outputs": [
        {
          "output_type": "stream",
          "name": "stderr",
          "text": [
            "/usr/local/lib/python3.7/dist-packages/ipykernel_launcher.py:1: DeprecationWarning: Call to deprecated `wmdistance` (Method will be removed in 4.0.0, use self.wv.wmdistance() instead).\n",
            "  \"\"\"Entry point for launching an IPython kernel.\n"
          ]
        },
        {
          "output_type": "execute_result",
          "data": {
            "text/plain": [
              "8.281054296236553"
            ]
          },
          "metadata": {},
          "execution_count": 79
        }
      ]
    },
    {
      "cell_type": "markdown",
      "metadata": {
        "id": "3jJgJF23_wjf"
      },
      "source": [
        "##Understanding Sent2Vec and the Universal Sentence Encoder"
      ]
    },
    {
      "cell_type": "markdown",
      "metadata": {
        "id": "poIFQZL4AEDm"
      },
      "source": [
        "###Sent2Vec"
      ]
    },
    {
      "cell_type": "markdown",
      "metadata": {
        "id": "xwUKyyRRAJPO"
      },
      "source": [
        "Sent2Vec combines the continuous bag-of-words approach we discussed regarding Word2Vec, along with the fastText thought process of using constituent n-gram, to build sentence embeddings."
      ]
    },
    {
      "cell_type": "markdown",
      "metadata": {
        "id": "xuozpRdeAM4u"
      },
      "source": [
        "###The Universal Sentence Encoder"
      ]
    },
    {
      "cell_type": "markdown",
      "metadata": {
        "id": "SCdHWEhKAPqh"
      },
      "source": [
        "The Universal Sentence Encoder (USE) is a model for fetching embeddings at the sentence level. These models are trained using Wikipedia, web news, web question-answer pages, and discussion forums."
      ]
    }
  ]
}